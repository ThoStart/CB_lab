{
 "cells": [
  {
   "cell_type": "markdown",
   "metadata": {},
   "source": [
    "### Assignment 1: Enzyme kinetics and inhibitors"
   ]
  },
  {
   "cell_type": "markdown",
   "metadata": {},
   "source": [
    "$$ \\frac{d[ES]}{dt} = E_{total} * \\frac{[S]}{K_m + [S]} $$\n",
    "\n",
    "$$ \\frac{d[S]}{dt} = -v $$\n",
    "\n",
    "$$ \\frac{d[P]}{dt} = v $$\n",
    "\n",
    "$$ v = V_{max} \\frac{[S]}{K_m + [S]} $$\n",
    "\n",
    "$$ V_{max} = k_{cat} * E_{total} $$"
   ]
  },
  {
   "cell_type": "code",
   "execution_count": 5,
   "metadata": {},
   "outputs": [],
   "source": [
    "import numpy as np\n",
    "from scipy.integrate import odeint\n",
    "import matplotlib.pyplot as plt\n",
    "from scipy import optimize"
   ]
  },
  {
   "cell_type": "code",
   "execution_count": 31,
   "metadata": {},
   "outputs": [
    {
     "data": {
      "image/png": "[encoded data removed]",
      "text/plain": [
       "<Figure size 432x288 with 1 Axes>"
      ]
     },
     "metadata": {
      "needs_background": "light"
     },
     "output_type": "display_data"
    }
   ],
   "source": [
    "# define constants:\n",
    "vmax = 1\n",
    "km = 1\n",
    "\n",
    "# make tuple of S, E, v\n",
    "S = 5\n",
    "E = 5\n",
    "v = vmax * S / (km + S)\n",
    "y0 = S, E\n",
    "\n",
    "# function that returns derivates of ODE's\n",
    "def odes(y0, t, vmax, km):\n",
    "    S, E = y0\n",
    "    v = vmax * S / (km + S)\n",
    "    dSdt = -v\n",
    "    dPdt = v\n",
    "    return(dSdt, dPdt)\n",
    "\n",
    "# function to return integral of ODE's\n",
    "def integrate(t, beta, gamma):\n",
    "    ode = odeint(odes, y0, t, args=(beta, gamma))\n",
    "    return ode\n",
    "\n",
    "t = np.linspace(0, 20)\n",
    "\n",
    "ode = integrate(t, vmax, km)\n",
    "\n",
    "plt.plot(t, ode[:, 0], 'b', label='Substrate')\n",
    "plt.plot(t, ode[:, 1], 'r', label='Product')\n",
    "plt.legend(loc='best')\n",
    "plt.xlabel('Time')\n",
    "plt.grid()\n",
    "plt.show()\n",
    "\n"
   ]
  },
  {
   "cell_type": "code",
   "execution_count": null,
   "metadata": {},
   "outputs": [],
   "source": []
  }
 ],
 "metadata": {
  "kernelspec": {
   "display_name": "Python 3",
   "language": "python",
   "name": "python3"
  },
  "language_info": {
   "codemirror_mode": {
    "name": "ipython",
    "version": 3
   },
   "file_extension": ".py",
   "mimetype": "text/x-python",
   "name": "python",
   "nbconvert_exporter": "python",
   "pygments_lexer": "ipython3",
   "version": "3.7.2"
  }
 },
 "nbformat": 4,
 "nbformat_minor": 2
}
